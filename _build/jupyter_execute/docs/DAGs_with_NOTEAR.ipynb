{
 "cells": [
  {
   "cell_type": "markdown",
   "id": "66a586a5",
   "metadata": {},
   "source": [
    "![](images/CausalGraphLearning.png)\n",
    "%%HTML\n",
    "<script src=\"require.js\"></script>"
   ]
  },
  {
   "cell_type": "markdown",
   "id": "2505d065",
   "metadata": {},
   "source": [
    "# DAGs with NOTEATS Algorithm"
   ]
  },
  {
   "cell_type": "markdown",
   "id": "c76703f7",
   "metadata": {},
   "source": [
    "In this lecture ,we're going to have a detailable review on DAGs with NOTEARS papre 🔎"
   ]
  },
  {
   "cell_type": "markdown",
   "id": "e462f618",
   "metadata": {},
   "source": [
    "## Abstract"
   ]
  },
  {
   "cell_type": "markdown",
   "id": "e98b142c",
   "metadata": {},
   "source": [
    "Estimating the structure of directed acyclic graphs (DAGs, also known as Bayesian\n",
    "networks) is a challenging problem since the search space of DAGs is combinatorial\n",
    "and scales superexponentially with the number of nodes. Existing approaches\n",
    "rely on various local heuristics for enforcing the acyclicity constraint. In this\n",
    "paper, we introduce a fundamentally different strategy: we formulate the structure\n",
    "learning problem as a purely continuous optimization problem over real matrices\n",
    "that avoids this combinatorial constraint entirely. This is achieved by a novel\n",
    "characterization of acyclicity that is not only smooth but also exact. The resulting\n",
    "problem can be efficiently solved by standard numerical algorithms, which also\n",
    "makes implementation effortless. The proposed method outperforms existing\n",
    "ones, without imposing any structural assumptions on the graph such as bounded\n",
    "treewidth or in-degree."
   ]
  }
 ],
 "metadata": {
  "kernelspec": {
   "display_name": "base",
   "language": "python",
   "name": "python3"
  },
  "language_info": {
   "codemirror_mode": {
    "name": "ipython",
    "version": 3
   },
   "file_extension": ".py",
   "mimetype": "text/x-python",
   "name": "python",
   "nbconvert_exporter": "python",
   "pygments_lexer": "ipython3",
   "version": "3.11.5"
  }
 },
 "nbformat": 4,
 "nbformat_minor": 5
}